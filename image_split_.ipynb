{
  "nbformat": 4,
  "nbformat_minor": 0,
  "metadata": {
    "colab": {
      "name": "image_split .ipynb",
      "provenance": []
    },
    "kernelspec": {
      "name": "python3",
      "display_name": "Python 3"
    },
    "language_info": {
      "name": "python"
    },
    "accelerator": "GPU"
  },
  "cells": [
    {
      "cell_type": "code",
      "execution_count": null,
      "metadata": {
        "colab": {
          "base_uri": "https://localhost:8080/"
        },
        "id": "cKLjsutan1kk",
        "outputId": "92a915f7-401f-4f7e-a2ab-e4401113cb51"
      },
      "outputs": [
        {
          "output_type": "stream",
          "name": "stdout",
          "text": [
            "Mounted at /content/drive\n"
          ]
        }
      ],
      "source": [
        "from google.colab import drive \n",
        "drive.mount('/content/drive')"
      ]
    },
    {
      "cell_type": "code",
      "source": [
        "import os\n",
        "\n",
        "import numpy as np\n",
        "\n",
        "import shutil\n",
        "\n",
        "rootdir= '/content/drive/MyDrive/m_images'"
      ],
      "metadata": {
        "id": "ZobSu7XcoU3p"
      },
      "execution_count": null,
      "outputs": []
    },
    {
      "cell_type": "code",
      "source": [
        "os.makedirs(rootdir +'/train/' + 'Parasitized')\n",
        "\n",
        "os.makedirs(rootdir +'/test/' + 'Parasitized')\n",
        "\n",
        "source = rootdir + '/' + 'Parasitized'\n",
        "\n",
        "allFileNames = os.listdir(source)\n",
        "\n",
        "np.random.shuffle(allFileNames)\n",
        "\n",
        "test_ratio = 0.20\n",
        "\n",
        "train_FileNames, test_FileNames = np.split(np.array(allFileNames),\n",
        "                                                      [int(len(allFileNames)* (1 - test_ratio))])\n",
        "\n",
        "train_FileNames = [source+'/'+ name for name in train_FileNames.tolist()]\n",
        "test_FileNames = [source+'/' + name for name in test_FileNames.tolist()]\n",
        "print('Total images: ', len(allFileNames))\n",
        "print('Training: ', len(train_FileNames))\n",
        "print('Testing: ', len(test_FileNames))"
      ],
      "metadata": {
        "colab": {
          "base_uri": "https://localhost:8080/"
        },
        "id": "ZP0VwEXMocYF",
        "outputId": "0f50c60f-d37b-461f-f66c-668725113404"
      },
      "execution_count": null,
      "outputs": [
        {
          "output_type": "stream",
          "name": "stdout",
          "text": [
            "Total images:  13780\n",
            "Training:  11024\n",
            "Testing:  2756\n"
          ]
        }
      ]
    },
    {
      "cell_type": "code",
      "source": [
        "c=0\n",
        "for name in test_FileNames:\n",
        "  shutil.copy(name, rootdir +'/test/' + 'Parasitized')\n",
        "  c=c+1\n",
        "print('loop ran for {} times'.format(c))"
      ],
      "metadata": {
        "colab": {
          "base_uri": "https://localhost:8080/"
        },
        "id": "Vj7PKovlol5L",
        "outputId": "372e6525-756c-4471-df5d-7b63f48ce3c7"
      },
      "execution_count": null,
      "outputs": [
        {
          "output_type": "stream",
          "name": "stdout",
          "text": [
            "loop ran for 2756 times\n"
          ]
        }
      ]
    },
    {
      "cell_type": "code",
      "source": [
        "len(train_FileNames)"
      ],
      "metadata": {
        "colab": {
          "base_uri": "https://localhost:8080/"
        },
        "id": "NGwpWHLwqpeh",
        "outputId": "5b5c3995-16a8-4f44-dbc8-b352f58a62df"
      },
      "execution_count": null,
      "outputs": [
        {
          "output_type": "execute_result",
          "data": {
            "text/plain": [
              "11024"
            ]
          },
          "metadata": {},
          "execution_count": 5
        }
      ]
    },
    {
      "cell_type": "code",
      "source": [
        "len(train_FileNames)"
      ],
      "metadata": {
        "colab": {
          "base_uri": "https://localhost:8080/"
        },
        "id": "ksXJVTl8sN2W",
        "outputId": "2a888057-8322-420e-b561-6503277803a1"
      },
      "execution_count": null,
      "outputs": [
        {
          "output_type": "execute_result",
          "data": {
            "text/plain": [
              "11024"
            ]
          },
          "metadata": {},
          "execution_count": 6
        }
      ]
    },
    {
      "cell_type": "code",
      "source": [
        "d=0\n",
        "for name in train_FileNames:\n",
        "  shutil.copy(name, rootdir +'/train/' + 'Parasitized')\n",
        "  d=d+1\n",
        "print('loop ran for {} times'.format(d))"
      ],
      "metadata": {
        "colab": {
          "base_uri": "https://localhost:8080/"
        },
        "id": "8PEuvfJuorx9",
        "outputId": "424601eb-45f8-410d-f4a8-4310c8f38a16"
      },
      "execution_count": null,
      "outputs": [
        {
          "output_type": "stream",
          "name": "stdout",
          "text": [
            "loop ran for 11024 times\n"
          ]
        }
      ]
    },
    {
      "cell_type": "code",
      "source": [
        ""
      ],
      "metadata": {
        "id": "uad1qGsNvD_E"
      },
      "execution_count": null,
      "outputs": []
    },
    {
      "cell_type": "code",
      "source": [
        "os.makedirs(rootdir +'/train/' + 'Uninfected')\n",
        "\n",
        "os.makedirs(rootdir +'/test/' + 'Uninfected')\n",
        "\n",
        "source = rootdir + '/' + 'Uninfected'\n",
        "\n",
        "allFileNames = os.listdir(source)\n",
        "\n",
        "np.random.shuffle(allFileNames)\n",
        "\n",
        "test_ratio = 0.20\n",
        "\n",
        "train_FileNames, test_FileNames = np.split(np.array(allFileNames),\n",
        "                                                      [int(len(allFileNames)* (1 - test_ratio))])\n",
        "\n",
        "train_FileNames = [source+'/'+ name for name in train_FileNames.tolist()]\n",
        "test_FileNames = [source+'/' + name for name in test_FileNames.tolist()]\n",
        "print('Total images: ', len(allFileNames))\n",
        "print('Training: ', len(train_FileNames))\n",
        "print('Testing: ', len(test_FileNames))"
      ],
      "metadata": {
        "colab": {
          "base_uri": "https://localhost:8080/"
        },
        "id": "uGOoVDFluOZ1",
        "outputId": "61ee553b-ca2b-4c13-c52f-d55012cbee9c"
      },
      "execution_count": null,
      "outputs": [
        {
          "output_type": "stream",
          "name": "stdout",
          "text": [
            "Total images:  13794\n",
            "Training:  11035\n",
            "Testing:  2759\n"
          ]
        }
      ]
    },
    {
      "cell_type": "code",
      "source": [
        "e=0\n",
        "for name in test_FileNames:\n",
        "  shutil.copy(name, rootdir +'/test/' +'Uninfected')\n",
        "  e=e+1\n",
        "print('loop ran for {} times'.format(e))"
      ],
      "metadata": {
        "colab": {
          "base_uri": "https://localhost:8080/"
        },
        "id": "4mAq4hHZujxG",
        "outputId": "34b7f406-516a-4220-a877-79c155528130"
      },
      "execution_count": null,
      "outputs": [
        {
          "output_type": "stream",
          "name": "stdout",
          "text": [
            "loop ran for 2759 times\n"
          ]
        }
      ]
    },
    {
      "cell_type": "code",
      "source": [
        "f=0\n",
        "for name in train_FileNames:\n",
        "  shutil.copy(name, rootdir +'/train/' +'Uninfected')\n",
        "  f=f+1\n",
        "print('loop ran for {} times'.format(f))"
      ],
      "metadata": {
        "colab": {
          "base_uri": "https://localhost:8080/"
        },
        "id": "1cua9SwDvFx3",
        "outputId": "650593b9-35e8-43b7-d55e-d000a14e3c8e"
      },
      "execution_count": null,
      "outputs": [
        {
          "output_type": "stream",
          "name": "stdout",
          "text": [
            "loop ran for 11035 times\n"
          ]
        }
      ]
    }
  ]
}